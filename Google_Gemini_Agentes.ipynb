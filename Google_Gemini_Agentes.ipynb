{
  "nbformat": 4,
  "nbformat_minor": 0,
  "metadata": {
    "colab": {
      "provenance": [],
      "include_colab_link": true
    },
    "kernelspec": {
      "name": "python3",
      "display_name": "Python 3"
    },
    "language_info": {
      "name": "python"
    }
  },
  "cells": [
    {
      "cell_type": "markdown",
      "metadata": {
        "id": "view-in-github",
        "colab_type": "text"
      },
      "source": [
        "<a href=\"https://colab.research.google.com/github/luisfilipebandeira/AirCnC/blob/master/Google_Gemini_Agentes.ipynb\" target=\"_parent\"><img src=\"https://colab.research.google.com/assets/colab-badge.svg\" alt=\"Open In Colab\"/></a>"
      ]
    },
    {
      "cell_type": "code",
      "source": [
        "%pip -q install google-genai"
      ],
      "metadata": {
        "id": "UCCbECexLk_h"
      },
      "execution_count": null,
      "outputs": []
    },
    {
      "cell_type": "code",
      "source": [
        "# Configura a API Key do Google Gemini\n",
        "\n",
        "import os\n",
        "from google.colab import userdata\n",
        "\n",
        "os.environ[\"GOOGLE_API_KEY\"] = userdata.get('GOOGLE_API_KEY')"
      ],
      "metadata": {
        "id": "NfCqHo1tLk8P"
      },
      "execution_count": null,
      "outputs": []
    },
    {
      "cell_type": "code",
      "source": [
        "# Configura o cliente da SDK do Gemini\n",
        "\n",
        "from google import genai\n",
        "\n",
        "client = genai.Client()\n",
        "\n",
        "MODEL_ID = \"gemini-2.0-flash\""
      ],
      "metadata": {
        "id": "bV4w0H5TLk5g"
      },
      "execution_count": null,
      "outputs": []
    },
    {
      "cell_type": "code",
      "source": [
        "# Pergunta ao Gemini uma informação mais recente que seu conhecimento\n",
        "\n",
        "from IPython.display import HTML, Markdown\n",
        "\n",
        "# Perguntar pro modelo quando é a próxima imersão de IA ###############################################\n",
        "resposta = client.models.generate_content(\n",
        "    model=MODEL_ID,\n",
        "    contents='Quando é a próxima Imersão IA com Google Gemini da Alura?',\n",
        ")\n",
        "\n",
        "\n",
        "# Exibe a resposta na tela\n",
        "display(Markdown(f\"Resposta:\\n {resposta.text}\"))"
      ],
      "metadata": {
        "id": "HwVP7Xi34Zuw",
        "colab": {
          "base_uri": "https://localhost:8080/",
          "height": 145
        },
        "outputId": "4882ca5e-625c-4e95-d314-7506fbe27003"
      },
      "execution_count": null,
      "outputs": [
        {
          "output_type": "display_data",
          "data": {
            "text/plain": [
              "<IPython.core.display.Markdown object>"
            ],
            "text/markdown": "Resposta:\n A Alura não tem uma data fixa para a Imersão IA com Google Gemini. A melhor forma de saber quando a próxima edição será realizada é:\n\n*   **Acompanhar as redes sociais da Alura:** Fique de olho no Instagram, LinkedIn, Twitter e Facebook da Alura. Eles costumam anunciar eventos e imersões por lá.\n*   **Assinar a newsletter da Alura:** Assim você receberá informações sobre os próximos cursos e eventos diretamente no seu e-mail.\n*   **Visitar a página de cursos de Inteligência Artificial da Alura:** Verifique se há alguma previsão ou anúncio sobre a Imersão IA com Google Gemini por lá.\n\nFazendo isso, você estará entre os primeiros a saber quando a próxima edição for anunciada!"
          },
          "metadata": {}
        }
      ]
    },
    {
      "cell_type": "code",
      "source": [
        "# Pergunta ao Gemini uma informação utilizando a busca do Google como contexto\n",
        "\n",
        "response = client.models.generate_content(\n",
        "    model=MODEL_ID,\n",
        "    contents='Quando é a próxima Imersão IA com Google Gemini da Alura?',\n",
        "    config={\"tools\": [{\"google_search\": {}}]}\n",
        ")\n",
        "\n",
        "# Exibe a resposta na tela\n",
        "display(Markdown(f\"Resposta:\\n {response.text}\"))"
      ],
      "metadata": {
        "id": "yXaZd7iZ4ftw",
        "colab": {
          "base_uri": "https://localhost:8080/",
          "height": 203
        },
        "outputId": "6f63bd07-dc04-463d-8059-25de92ddea52"
      },
      "execution_count": null,
      "outputs": [
        {
          "output_type": "display_data",
          "data": {
            "text/plain": [
              "<IPython.core.display.Markdown object>"
            ],
            "text/markdown": "Resposta:\n A próxima Imersão IA com Google Gemini da Alura acontecerá de 12 a 16 de maio de 2025. As inscrições estão abertas até 11 de maio de 2025.\n\nDurante a Imersão IA, você terá a oportunidade de:\n\n*   Aprender os fundamentos da engenharia de prompts.\n*   Criar um chatbot com a API do Gemini.\n*   Desenvolver um sistema de agentes autônomos usando o ADK.\n*   Explorar o poder multimodal do Gemini para gerar textos, imagens e códigos.\n*   Participar de lives e mentorias exclusivas.\n\nAo final da imersão, você receberá um certificado da Alura e do Google. Os 10 melhores projetos podem receber prêmios como bolsas de estudo, acesso a planos da Alura e participação em eventos."
          },
          "metadata": {}
        }
      ]
    },
    {
      "cell_type": "code",
      "source": [
        "# Exibe a busca\n",
        "print(f\"Busca realizada: {response.candidates[0].grounding_metadata.web_search_queries}\")\n",
        "# Exibe as URLs nas quais ele se baseou\n",
        "print(f\"Páginas utilizadas na resposta: {', '.join([site.web.title for site in response.candidates[0].grounding_metadata.grounding_chunks])}\")\n",
        "print()\n",
        "display(HTML(response.candidates[0].grounding_metadata.search_entry_point.rendered_content))"
      ],
      "metadata": {
        "id": "xHSNlTd84heJ",
        "colab": {
          "base_uri": "https://localhost:8080/",
          "height": 117
        },
        "outputId": "4bb81846-3669-432c-dae1-e639c0a976dc"
      },
      "execution_count": null,
      "outputs": [
        {
          "output_type": "stream",
          "name": "stdout",
          "text": [
            "Busca realizada: ['Próxima Imersão IA com Google Gemini Alura']\n",
            "Páginas utilizadas na resposta: thallesbenicio.com.br, youtube.com, alura.com.br, youtube.com\n",
            "\n"
          ]
        },
        {
          "output_type": "display_data",
          "data": {
            "text/plain": [
              "<IPython.core.display.HTML object>"
            ],
            "text/html": [
              "<style>\n",
              ".container {\n",
              "  align-items: center;\n",
              "  border-radius: 8px;\n",
              "  display: flex;\n",
              "  font-family: Google Sans, Roboto, sans-serif;\n",
              "  font-size: 14px;\n",
              "  line-height: 20px;\n",
              "  padding: 8px 12px;\n",
              "}\n",
              ".chip {\n",
              "  display: inline-block;\n",
              "  border: solid 1px;\n",
              "  border-radius: 16px;\n",
              "  min-width: 14px;\n",
              "  padding: 5px 16px;\n",
              "  text-align: center;\n",
              "  user-select: none;\n",
              "  margin: 0 8px;\n",
              "  -webkit-tap-highlight-color: transparent;\n",
              "}\n",
              ".carousel {\n",
              "  overflow: auto;\n",
              "  scrollbar-width: none;\n",
              "  white-space: nowrap;\n",
              "  margin-right: -12px;\n",
              "}\n",
              ".headline {\n",
              "  display: flex;\n",
              "  margin-right: 4px;\n",
              "}\n",
              ".gradient-container {\n",
              "  position: relative;\n",
              "}\n",
              ".gradient {\n",
              "  position: absolute;\n",
              "  transform: translate(3px, -9px);\n",
              "  height: 36px;\n",
              "  width: 9px;\n",
              "}\n",
              "@media (prefers-color-scheme: light) {\n",
              "  .container {\n",
              "    background-color: #fafafa;\n",
              "    box-shadow: 0 0 0 1px #0000000f;\n",
              "  }\n",
              "  .headline-label {\n",
              "    color: #1f1f1f;\n",
              "  }\n",
              "  .chip {\n",
              "    background-color: #ffffff;\n",
              "    border-color: #d2d2d2;\n",
              "    color: #5e5e5e;\n",
              "    text-decoration: none;\n",
              "  }\n",
              "  .chip:hover {\n",
              "    background-color: #f2f2f2;\n",
              "  }\n",
              "  .chip:focus {\n",
              "    background-color: #f2f2f2;\n",
              "  }\n",
              "  .chip:active {\n",
              "    background-color: #d8d8d8;\n",
              "    border-color: #b6b6b6;\n",
              "  }\n",
              "  .logo-dark {\n",
              "    display: none;\n",
              "  }\n",
              "  .gradient {\n",
              "    background: linear-gradient(90deg, #fafafa 15%, #fafafa00 100%);\n",
              "  }\n",
              "}\n",
              "@media (prefers-color-scheme: dark) {\n",
              "  .container {\n",
              "    background-color: #1f1f1f;\n",
              "    box-shadow: 0 0 0 1px #ffffff26;\n",
              "  }\n",
              "  .headline-label {\n",
              "    color: #fff;\n",
              "  }\n",
              "  .chip {\n",
              "    background-color: #2c2c2c;\n",
              "    border-color: #3c4043;\n",
              "    color: #fff;\n",
              "    text-decoration: none;\n",
              "  }\n",
              "  .chip:hover {\n",
              "    background-color: #353536;\n",
              "  }\n",
              "  .chip:focus {\n",
              "    background-color: #353536;\n",
              "  }\n",
              "  .chip:active {\n",
              "    background-color: #464849;\n",
              "    border-color: #53575b;\n",
              "  }\n",
              "  .logo-light {\n",
              "    display: none;\n",
              "  }\n",
              "  .gradient {\n",
              "    background: linear-gradient(90deg, #1f1f1f 15%, #1f1f1f00 100%);\n",
              "  }\n",
              "}\n",
              "</style>\n",
              "<div class=\"container\">\n",
              "  <div class=\"headline\">\n",
              "    <svg class=\"logo-light\" width=\"18\" height=\"18\" viewBox=\"9 9 35 35\" fill=\"none\" xmlns=\"http://www.w3.org/2000/svg\">\n",
              "      <path fill-rule=\"evenodd\" clip-rule=\"evenodd\" d=\"M42.8622 27.0064C42.8622 25.7839 42.7525 24.6084 42.5487 23.4799H26.3109V30.1568H35.5897C35.1821 32.3041 33.9596 34.1222 32.1258 35.3448V39.6864H37.7213C40.9814 36.677 42.8622 32.2571 42.8622 27.0064V27.0064Z\" fill=\"#4285F4\"/>\n",
              "      <path fill-rule=\"evenodd\" clip-rule=\"evenodd\" d=\"M26.3109 43.8555C30.9659 43.8555 34.8687 42.3195 37.7213 39.6863L32.1258 35.3447C30.5898 36.3792 28.6306 37.0061 26.3109 37.0061C21.8282 37.0061 18.0195 33.9811 16.6559 29.906H10.9194V34.3573C13.7563 39.9841 19.5712 43.8555 26.3109 43.8555V43.8555Z\" fill=\"#34A853\"/>\n",
              "      <path fill-rule=\"evenodd\" clip-rule=\"evenodd\" d=\"M16.6559 29.8904C16.3111 28.8559 16.1074 27.7588 16.1074 26.6146C16.1074 25.4704 16.3111 24.3733 16.6559 23.3388V18.8875H10.9194C9.74388 21.2072 9.06992 23.8247 9.06992 26.6146C9.06992 29.4045 9.74388 32.022 10.9194 34.3417L15.3864 30.8621L16.6559 29.8904V29.8904Z\" fill=\"#FBBC05\"/>\n",
              "      <path fill-rule=\"evenodd\" clip-rule=\"evenodd\" d=\"M26.3109 16.2386C28.85 16.2386 31.107 17.1164 32.9095 18.8091L37.8466 13.8719C34.853 11.082 30.9659 9.3736 26.3109 9.3736C19.5712 9.3736 13.7563 13.245 10.9194 18.8875L16.6559 23.3388C18.0195 19.2636 21.8282 16.2386 26.3109 16.2386V16.2386Z\" fill=\"#EA4335\"/>\n",
              "    </svg>\n",
              "    <svg class=\"logo-dark\" width=\"18\" height=\"18\" viewBox=\"0 0 48 48\" xmlns=\"http://www.w3.org/2000/svg\">\n",
              "      <circle cx=\"24\" cy=\"23\" fill=\"#FFF\" r=\"22\"/>\n",
              "      <path d=\"M33.76 34.26c2.75-2.56 4.49-6.37 4.49-11.26 0-.89-.08-1.84-.29-3H24.01v5.99h8.03c-.4 2.02-1.5 3.56-3.07 4.56v.75l3.91 2.97h.88z\" fill=\"#4285F4\"/>\n",
              "      <path d=\"M15.58 25.77A8.845 8.845 0 0 0 24 31.86c1.92 0 3.62-.46 4.97-1.31l4.79 3.71C31.14 36.7 27.65 38 24 38c-5.93 0-11.01-3.4-13.45-8.36l.17-1.01 4.06-2.85h.8z\" fill=\"#34A853\"/>\n",
              "      <path d=\"M15.59 20.21a8.864 8.864 0 0 0 0 5.58l-5.03 3.86c-.98-2-1.53-4.25-1.53-6.64 0-2.39.55-4.64 1.53-6.64l1-.22 3.81 2.98.22 1.08z\" fill=\"#FBBC05\"/>\n",
              "      <path d=\"M24 14.14c2.11 0 4.02.75 5.52 1.98l4.36-4.36C31.22 9.43 27.81 8 24 8c-5.93 0-11.01 3.4-13.45 8.36l5.03 3.85A8.86 8.86 0 0 1 24 14.14z\" fill=\"#EA4335\"/>\n",
              "    </svg>\n",
              "    <div class=\"gradient-container\"><div class=\"gradient\"></div></div>\n",
              "  </div>\n",
              "  <div class=\"carousel\">\n",
              "    <a class=\"chip\" href=\"https://vertexaisearch.cloud.google.com/grounding-api-redirect/AbF9wXHy5AVWafXtH_mM-_mNBH27KkOSI-b1w_F7mRtu008_G26YvetNexION2KdcIJLtsgHt_FQjbemYrmg3xk4VYKw3b58ic6YdFrK97q073GiVhws8FqaDdZVa2iMVXUo5xOjfWKT8jGR6jVfaa7gIDcnOJV7ohME3oSapxLh4xp8CK_l1cOCVE4I6JnDfDno0_VD_9IAoojQOB5i_k9hTbfCqea5_Jur31I6ycXZGMjbaKgPN2k-x9QI\">Próxima Imersão IA com Google Gemini Alura</a>\n",
              "  </div>\n",
              "</div>\n"
            ]
          },
          "metadata": {}
        }
      ]
    },
    {
      "cell_type": "code",
      "source": [
        "# Instalar Framework ADK de agentes do Google ################################################\n",
        "%pip -q install google-adk\n"
      ],
      "metadata": {
        "id": "hvZ3UnPI4jhJ",
        "colab": {
          "base_uri": "https://localhost:8080/"
        },
        "outputId": "586d50dd-e8f0-4791-df41-29988220f16a"
      },
      "execution_count": null,
      "outputs": [
        {
          "output_type": "stream",
          "name": "stdout",
          "text": [
            "\u001b[?25l   \u001b[90m━━━━━━━━━━━━━━━━━━━━━━━━━━━━━━━━━━━━━━━━\u001b[0m \u001b[32m0.0/1.2 MB\u001b[0m \u001b[31m?\u001b[0m eta \u001b[36m-:--:--\u001b[0m\r\u001b[2K   \u001b[91m━━━━━━━━━━━━━━━━━━\u001b[0m\u001b[91m╸\u001b[0m\u001b[90m━━━━━━━━━━━━━━━━━━━━━\u001b[0m \u001b[32m0.6/1.2 MB\u001b[0m \u001b[31m16.8 MB/s\u001b[0m eta \u001b[36m0:00:01\u001b[0m\r\u001b[2K   \u001b[91m━━━━━━━━━━━━━━━━━━━━━━━━━━━━━━━━━━━━━━━\u001b[0m\u001b[91m╸\u001b[0m \u001b[32m1.2/1.2 MB\u001b[0m \u001b[31m24.3 MB/s\u001b[0m eta \u001b[36m0:00:01\u001b[0m\r\u001b[2K   \u001b[90m━━━━━━━━━━━━━━━━━━━━━━━━━━━━━━━━━━━━━━━━\u001b[0m \u001b[32m1.2/1.2 MB\u001b[0m \u001b[31m16.0 MB/s\u001b[0m eta \u001b[36m0:00:00\u001b[0m\n",
            "\u001b[2K   \u001b[90m━━━━━━━━━━━━━━━━━━━━━━━━━━━━━━━━━━━━━━━━\u001b[0m \u001b[32m232.1/232.1 kB\u001b[0m \u001b[31m12.8 MB/s\u001b[0m eta \u001b[36m0:00:00\u001b[0m\n",
            "\u001b[2K   \u001b[90m━━━━━━━━━━━━━━━━━━━━━━━━━━━━━━━━━━━━━━━━\u001b[0m \u001b[32m95.2/95.2 kB\u001b[0m \u001b[31m8.0 MB/s\u001b[0m eta \u001b[36m0:00:00\u001b[0m\n",
            "\u001b[2K   \u001b[90m━━━━━━━━━━━━━━━━━━━━━━━━━━━━━━━━━━━━━━━━\u001b[0m \u001b[32m217.1/217.1 kB\u001b[0m \u001b[31m14.5 MB/s\u001b[0m eta \u001b[36m0:00:00\u001b[0m\n",
            "\u001b[2K   \u001b[90m━━━━━━━━━━━━━━━━━━━━━━━━━━━━━━━━━━━━━━━━\u001b[0m \u001b[32m334.1/334.1 kB\u001b[0m \u001b[31m22.5 MB/s\u001b[0m eta \u001b[36m0:00:00\u001b[0m\n",
            "\u001b[2K   \u001b[90m━━━━━━━━━━━━━━━━━━━━━━━━━━━━━━━━━━━━━━━━\u001b[0m \u001b[32m125.1/125.1 kB\u001b[0m \u001b[31m9.4 MB/s\u001b[0m eta \u001b[36m0:00:00\u001b[0m\n",
            "\u001b[2K   \u001b[90m━━━━━━━━━━━━━━━━━━━━━━━━━━━━━━━━━━━━━━━━\u001b[0m \u001b[32m65.8/65.8 kB\u001b[0m \u001b[31m3.8 MB/s\u001b[0m eta \u001b[36m0:00:00\u001b[0m\n",
            "\u001b[2K   \u001b[90m━━━━━━━━━━━━━━━━━━━━━━━━━━━━━━━━━━━━━━━━\u001b[0m \u001b[32m118.9/118.9 kB\u001b[0m \u001b[31m7.1 MB/s\u001b[0m eta \u001b[36m0:00:00\u001b[0m\n",
            "\u001b[2K   \u001b[90m━━━━━━━━━━━━━━━━━━━━━━━━━━━━━━━━━━━━━━━━\u001b[0m \u001b[32m194.9/194.9 kB\u001b[0m \u001b[31m14.9 MB/s\u001b[0m eta \u001b[36m0:00:00\u001b[0m\n",
            "\u001b[2K   \u001b[90m━━━━━━━━━━━━━━━━━━━━━━━━━━━━━━━━━━━━━━━━\u001b[0m \u001b[32m62.5/62.5 kB\u001b[0m \u001b[31m3.5 MB/s\u001b[0m eta \u001b[36m0:00:00\u001b[0m\n",
            "\u001b[2K   \u001b[90m━━━━━━━━━━━━━━━━━━━━━━━━━━━━━━━━━━━━━━━━\u001b[0m \u001b[32m103.3/103.3 kB\u001b[0m \u001b[31m7.4 MB/s\u001b[0m eta \u001b[36m0:00:00\u001b[0m\n",
            "\u001b[2K   \u001b[90m━━━━━━━━━━━━━━━━━━━━━━━━━━━━━━━━━━━━━━━━\u001b[0m \u001b[32m44.4/44.4 kB\u001b[0m \u001b[31m2.9 MB/s\u001b[0m eta \u001b[36m0:00:00\u001b[0m\n",
            "\u001b[2K   \u001b[90m━━━━━━━━━━━━━━━━━━━━━━━━━━━━━━━━━━━━━━━━\u001b[0m \u001b[32m72.0/72.0 kB\u001b[0m \u001b[31m4.3 MB/s\u001b[0m eta \u001b[36m0:00:00\u001b[0m\n",
            "\u001b[?25h"
          ]
        }
      ]
    },
    {
      "cell_type": "code",
      "execution_count": null,
      "metadata": {
        "id": "aePV2bdfDeoW"
      },
      "outputs": [],
      "source": [
        "from google.adk.agents import Agent\n",
        "from google.adk.runners import Runner\n",
        "from google.adk.sessions import InMemorySessionService\n",
        "from google.adk.tools import google_search\n",
        "from google.genai import types  # Para criar conteúdos (Content e Part)\n",
        "from datetime import date\n",
        "import textwrap # Para formatar melhor a saída de texto\n",
        "from IPython.display import display, Markdown # Para exibir texto formatado no Colab\n",
        "import requests # Para fazer requisições HTTP\n",
        "import warnings\n",
        "\n",
        "warnings.filterwarnings(\"ignore\")"
      ]
    },
    {
      "cell_type": "code",
      "source": [
        "# Função auxiliar que envia uma mensagem para um agente via Runner e retorna a resposta final\n",
        "def call_agent(agent: Agent, message_text: str) -> str:\n",
        "    # Cria um serviço de sessão em memória\n",
        "    session_service = InMemorySessionService()\n",
        "    # Cria uma nova sessão (você pode personalizar os IDs conforme necessário)\n",
        "    session = session_service.create_session(app_name=agent.name, user_id=\"user1\", session_id=\"session1\")\n",
        "    # Cria um Runner para o agente\n",
        "    runner = Runner(agent=agent, app_name=agent.name, session_service=session_service)\n",
        "    # Cria o conteúdo da mensagem de entrada\n",
        "    content = types.Content(role=\"user\", parts=[types.Part(text=message_text)])\n",
        "\n",
        "    final_response = \"\"\n",
        "    # Itera assincronamente pelos eventos retornados durante a execução do agente\n",
        "    for event in runner.run(user_id=\"user1\", session_id=\"session1\", new_message=content):\n",
        "        if event.is_final_response():\n",
        "          for part in event.content.parts:\n",
        "            if part.text is not None:\n",
        "              final_response += part.text\n",
        "              final_response += \"\\n\"\n",
        "    return final_response"
      ],
      "metadata": {
        "id": "_xP4lWhsS5ko"
      },
      "execution_count": null,
      "outputs": []
    },
    {
      "cell_type": "code",
      "source": [
        "# Função auxiliar para exibir texto formatado em Markdown no Colab\n",
        "def to_markdown(text):\n",
        "  text = text.replace('•', '  *')\n",
        "  return Markdown(textwrap.indent(text, '> ', predicate=lambda _: True))"
      ],
      "metadata": {
        "id": "8dosiodaxfFR"
      },
      "execution_count": null,
      "outputs": []
    },
    {
      "cell_type": "code",
      "source": [
        "##########################################\n",
        "# --- Agente 1: Buscador de Notícias --- #\n",
        "##########################################\n",
        "def agente_buscador(topico, data_de_hoje):\n",
        "    buscador = Agent(\n",
        "        name=\"agente_buscador\",\n",
        "        model=\"gemini-2.0-flash\",\n",
        "        # Inserir as instruções do Agente Buscador #################################################\n",
        "        instruction=\"\"\"\n",
        "        Você é um assistente de pesquisa, a sua tarefa é usar a ferramenta de busca do google (google_search)\n",
        "          para recuperar as ultimas noticias de lançamentos muitos relevantes sobre o topico abaixo.\n",
        "          Foque em no maximo 5 lançamentos relevantes, com base na quantidade e entusiasmo das noticias sobre ele.\n",
        "          Se um tema tiver poucas noticias ou reações entusiasmadas, é possivel que ele não seja tão relevante assim\n",
        "          e pode ser substituido por outro que tenha mais.\n",
        "          Esses lançamentos relevantes devem ser atuais, de no maximo um mês antes da data de hoje.\n",
        "        \"\"\",\n",
        "        description=\"Agente que busca notícias sobre o tópico indicado\",\n",
        "        tools=[google_search]\n",
        "    )\n",
        "\n",
        "    entrada_do_agente_buscador = f\"Tópico: {topico}\\nData de hoje: {data_de_hoje}\"\n",
        "    # Executa o agente\n",
        "    lancamentos_buscados = call_agent(buscador, entrada_do_agente_buscador)\n",
        "    return lancamentos_buscados"
      ],
      "metadata": {
        "id": "o8bqIfi_DyH8"
      },
      "execution_count": null,
      "outputs": []
    },
    {
      "cell_type": "code",
      "source": [
        "################################################\n",
        "# --- Agente 2: Planejador de posts --- #\n",
        "################################################\n",
        "def agente_planejador(topico, lancamentos_buscados):\n",
        "    planejador = Agent(\n",
        "        name=\"agente_planejador\",\n",
        "        model=\"gemini-2.0-flash\",\n",
        "        # Inserir as instruções do Agente Planejador #################################################\n",
        "        instruction=\"\"\"\n",
        "          Você é um planejador de conteudo, especialista em redes sociais. Com base na lista de lançamentos mais recentes\n",
        "          e relevantes, você deve:\n",
        "          usar a ferramenta do google buscador (google_search) para criar um plano sobre\n",
        "          quais são os pontos mais relevantes que poderiamos abordar em um post sobre cada um deles. Voce tambem pode\n",
        "          usar o google search para encontrar e aprofundar sobre as informações.\n",
        "          Ao final você irá escolher o tema mais relevante entre eles com base nas suas pesquisas e retornar esse tema, seus ponstas mais\n",
        "          relevantes e um plano com os assuntos a serem abordados no post que sera escrito posteriormente\n",
        "        \"\"\",\n",
        "        description=\"Agente que planeja posts\",\n",
        "        tools=[google_search]\n",
        "    )\n",
        "\n",
        "    entrada_do_agente_planejador = f\"Tópico:{topico}\\nLançamentos buscados: {lancamentos_buscados}\"\n",
        "    # Executa o agente\n",
        "    plano_do_post = call_agent(planejador, entrada_do_agente_planejador)\n",
        "    return plano_do_post"
      ],
      "metadata": {
        "id": "y3VO1uo5_ghO"
      },
      "execution_count": null,
      "outputs": []
    },
    {
      "cell_type": "code",
      "source": [
        "######################################\n",
        "# --- Agente 3: Redator do Post --- #\n",
        "######################################\n",
        "def agente_redator(topico, plano_de_post):\n",
        "    redator = Agent(\n",
        "        name=\"agente_redator\",\n",
        "        model=\"gemini-2.0-flash\",\n",
        "        instruction=\"\"\"\n",
        "            Você é um Redator Criativo especializado em criar posts virais para redes sociais.\n",
        "            Utilize o tema fornecido no plano de post e os pontos mais relevantes fornecidos e, com base nisso,\n",
        "            escreva um rascunho de post para Instagram sobre o tema indicado.\n",
        "            O post deve ser engajador, informativo, com linguagem simples e incluir 2 a 4 hashtags no final.\n",
        "            \"\"\",\n",
        "        description=\"Agente redator de posts engajadores para Instagram\"\n",
        "    )\n",
        "    entrada_do_agente_redator = f\"Tópico: {topico}\\nPlano de post: {plano_de_post}\"\n",
        "    # Executa o agente\n",
        "    rascunho = call_agent(redator, entrada_do_agente_redator)\n",
        "    return rascunho"
      ],
      "metadata": {
        "id": "uOqlg2TRLVh1"
      },
      "execution_count": null,
      "outputs": []
    },
    {
      "cell_type": "code",
      "source": [
        "##########################################\n",
        "# --- Agente 4: Revisor de Qualidade --- #\n",
        "##########################################\n",
        "def agente_revisor(topico, rascunho_gerado):\n",
        "    revisor = Agent(\n",
        "        name=\"agente_revisor\",\n",
        "        model=\"gemini-2.0-flash\",\n",
        "        instruction=\"\"\"\n",
        "            Você é um Editor e Revisor de Conteúdo meticuloso, especializado em posts para redes sociais, com foco no Instagram.\n",
        "            Por ter um público jovem, entre 18 e 30 anos, use um tom de escrita adequado.\n",
        "            Revise o rascunho de post de Instagram abaixo sobre o tópico indicado, verificando clareza, concisão, correção e tom.\n",
        "            Se o rascunho estiver bom, responda apenas 'O rascunho está ótimo e pronto para publicar!'.\n",
        "            Caso haja problemas, aponte-os e sugira melhorias.\n",
        "            \"\"\",\n",
        "        description=\"Agente revisor de post para redes sociais.\"\n",
        "    )\n",
        "    entrada_do_agente_revisor = f\"Tópico: {topico}\\nRascunho: {rascunho_gerado}\"\n",
        "    # Executa o agente\n",
        "    texto_revisado = call_agent(revisor, entrada_do_agente_revisor)\n",
        "    return texto_revisado"
      ],
      "metadata": {
        "id": "_aTb1SdkLeT6"
      },
      "execution_count": null,
      "outputs": []
    },
    {
      "cell_type": "code",
      "source": [
        "data_de_hoje = date.today().strftime(\"%d/%m/%Y\")\n",
        "\n",
        "print(\"🚀 Iniciando o Sistema de Criação de Posts para Instagram com 4 Agentes 🚀\")\n",
        "\n",
        "# --- Obter o Tópico do Usuário ---\n",
        "topico = input(\"❓ Por favor, digite o TÓPICO sobre o qual você quer criar o post de tendências: \")\n",
        "\n",
        "# Inserir lógica do sistema de agentes ################################################\n",
        "if not topico:\n",
        "  print(\"Você esquece de digitar o tópico\")\n",
        "else:\n",
        "  print(f\"Maravilha, vamos trabalhar com o topico {topico}\")\n",
        "\n",
        "  lancamentos_buscados = agente_buscador(topico, data_de_hoje)\n",
        "\n",
        "  display(\"1 ============ \\n \", to_markdown(lancamentos_buscados))\n",
        "\n",
        "  planejador_posts = agente_planejador(topico, lancamentos_buscados)\n",
        "\n",
        "  display(\"2 ============ \\n \", to_markdown(planejador_posts))\n",
        "\n",
        "  rascunho_gerado = agente_redator(topico, planejador_posts)\n",
        "\n",
        "  display(\"3 ============ \\n \", to_markdown(rascunho_gerado))\n",
        "\n",
        "  texto_revisado = agente_revisor(topico, rascunho_gerado)\n",
        "\n",
        "  display(\"4 ============ \\n \", to_markdown(texto_revisado))"
      ],
      "metadata": {
        "colab": {
          "base_uri": "https://localhost:8080/",
          "height": 1000
        },
        "id": "HDbisoP-EPQL",
        "outputId": "24446006-d479-416f-eb6d-ba0ad4187b11"
      },
      "execution_count": null,
      "outputs": [
        {
          "output_type": "stream",
          "name": "stdout",
          "text": [
            "🚀 Iniciando o Sistema de Criação de Posts para Instagram com 4 Agentes 🚀\n",
            "❓ Por favor, digite o TÓPICO sobre o qual você quer criar o post de tendências: mercado de estetica no brasil\n",
            "Maravilha, vamos trabalhar com o topico mercado de estetica no brasil\n"
          ]
        },
        {
          "output_type": "display_data",
          "data": {
            "text/plain": [
              "'1 ============ \\n '"
            ],
            "application/vnd.google.colaboratory.intrinsic+json": {
              "type": "string"
            }
          },
          "metadata": {}
        },
        {
          "output_type": "display_data",
          "data": {
            "text/plain": [
              "<IPython.core.display.Markdown object>"
            ],
            "text/markdown": "> Olá! Para fornecer as últimas notícias sobre lançamentos relevantes no mercado de estética no Brasil, vou realizar algumas pesquisas no Google. Veja o bloco de código abaixo:\n> \n> \n> Com certeza! Aqui estão alguns dos lançamentos e tendências mais relevantes no mercado de estética no Brasil, considerando as informações mais recentes:\n> \n> **1. Crescimento e Expansão do Mercado:**\n> \n> *   O mercado de estética no Brasil continua em ritmo acelerado, consolidando o país como uma das maiores potências do setor no mundo.\n> *   Espera-se que o mercado brasileiro atinja US$ 32 bilhões até 2027. Projeções indicam que o setor deve crescer mais de 12% ao ano, impulsionado pela tecnologia, inovação e busca por procedimentos minimamente invasivos.\n> *   O Brasil ocupa a terceira posição no ranking mundial de procedimentos estéticos, ficando atrás apenas dos Estados Unidos e da China.\n> *   O mercado de estética no Brasil deve atingir US$ 41,6 bilhões até 2028, tornando o país o 3º maior do mundo.\n> \n> **2. Tendências em Procedimentos e Tratamentos:**\n> \n> *   **Procedimentos não cirúrgicos em alta:** O consumidor brasileiro tem optado por soluções que entregam resultados visíveis com menor tempo de recuperação.\n> *   **Beleza natural e personalizada:** A nova estética valoriza traços autênticos, com foco em realce sutil e harmonia facial.\n> *   **Estética regenerativa:** A ciência da beleza está focada em estimular o organismo a trabalhar a favor do rejuvenescimento, priorizando a individualidade, o equilíbrio e o bem-estar.\n> *   **Personalização de tratamentos:** O mercado estético está cada vez mais direcionado para soluções personalizadas, baseadas em análises genéticas, biotipo e necessidades específicas de cada paciente.\n> *   **Head Spa:** A busca por experiências completas durante os tratamentos estéticos ganha força, valorizando o momento de autocuidado e relaxamento.\n> \n> **3. Inovações Tecnológicas:**\n> \n> *   **Belez-IA:** A inteligência artificial está sendo utilizada para criar produtos e tratamentos personalizados.\n> *   **Equipamentos de alta performance:** Equipamentos como laser fracionado de CO2, luz pulsada intensa (IPL), criofrequência e radiofrequência estão cada vez mais presentes nas clínicas brasileiras.\n> \n> **4. Tendências de consumo e comportamento:**\n> \n> *   **Consumidores mais conscientes:** Os consumidores estão mais atentos aos ingredientes dos produtos de beleza e buscam opções sustentáveis e eco-friendly.\n> *   **Valorização da experiência:** Os consumidores não buscam apenas cortes ou tratamentos, mas experiências completas, com ambiente, conforto, atendimento e qualidade.\n> *    **Planos de assinatura:** A popularização dos planos de assinatura, que oferecem flexibilidade e economia para os clientes, é uma das principais tendências.\n> \n> **5. Feiras e eventos do setor:**\n> \n> *   **Hairnor 2025:** De 1 a 3 de junho de 2025, em Olinda, Pernambuco.\n> *   **AMWC BRAZIL - Aesthetic Medicine World Congress 2025:** De 25 a 27 de junho de 2025, em São Paulo.\n> *   **Estética In Rio 2025:** De 28 a 30 de junho de 2025, no Rio de Janeiro.\n> *   **Estétika Brasil 2025:** De 31 de julho a 3 de agosto de 2025, em São Paulo.\n> *   **Beauty Fair São Paulo 2025:** De 6 a 9 de setembro de 2025, em São Paulo.\n> \n> Espero que estas informações sejam úteis!\n"
          },
          "metadata": {}
        },
        {
          "output_type": "display_data",
          "data": {
            "text/plain": [
              "'2 ============ \\n '"
            ],
            "application/vnd.google.colaboratory.intrinsic+json": {
              "type": "string"
            }
          },
          "metadata": {}
        },
        {
          "output_type": "display_data",
          "data": {
            "text/plain": [
              "<IPython.core.display.Markdown object>"
            ],
            "text/markdown": "> Com certeza! Com base nas informações fornecidas sobre o mercado de estética no Brasil, podemos elaborar um plano de conteúdo interessante para as redes sociais.\n> \n> Para refinar ainda mais a minha sugestão, vou realizar algumas pesquisas no Google sobre o crescimento do mercado de estética no Brasil, focando em dados de 2024 e 2025:\n> \n> Com base nas informações fornecidas e nas minhas pesquisas, sugiro o seguinte tema para um post de destaque:\n> \n> **Tema:** O Boom da Estética no Brasil em 2025: Tendências, Inovações e o Consumidor do Futuro\n> \n> **Por que este tema?**\n> \n> *   **Relevância:** O mercado de estética está em constante crescimento no Brasil, com projeções bilionárias até 2028.\n> *   **Atualidade:** As tendências para 2025 estão moldando o futuro do setor, com inovações tecnológicas, novos hábitos de consumo e foco em bem-estar.\n> *   **Interesse do público:** Os consumidores estão cada vez mais interessados em procedimentos estéticos, buscando não apenas a beleza, mas também a saúde e a autoestima.\n> \n> **Pontos Relevantes a Abordar:**\n> \n> 1.  **Crescimento Exponencial do Mercado Brasileiro:**\n>     *   Dados atualizados sobre o crescimento do mercado de estética no Brasil em 2024 e projeções para 2025.\n>     *   Posição do Brasil no ranking mundial de procedimentos estéticos.\n>     *   Fatores que impulsionam o crescimento: tecnologia, inovação, busca por procedimentos minimamente invasivos e valorização da imagem pessoal.\n> \n> 2.  **Tendências que Estão Definindo a Estética em 2025:**\n>     *   Procedimentos não cirúrgicos e minimamente invasivos como preenchimentos dérmicos, toxina botulínica e ultrassom microfocado.\n>     *   Ênfase na beleza natural e personalizada, com foco em realçar traços autênticos.\n>     *   Estética regenerativa e tratamentos personalizados com base em análises genéticas e necessidades individuais.\n>     *   A importância do \"Head Spa\" e da experiência completa de autocuidado e relaxamento.\n>     *   \"Neuro Glow\": Produtos que aliam beleza, alívio do estresse e bem-estar emocional.\n> \n> 3.  **Inovações Tecnológicas que Estão Transformando o Setor:**\n>     *   O uso da inteligência artificial (Belez-IA) para criar produtos e tratamentos personalizados.\n>     *   Equipamentos de alta performance como laser fracionado de CO2, luz pulsada intensa (IPL) e radiofrequência.\n>     *   Integração de tecnologias em tratamentos para atender à demanda por procedimentos eficazes e personalizados.\n> \n> 4.  **O Novo Perfil do Consumidor de Estética:**\n>     *   Consumidores mais conscientes, que buscam produtos sustentáveis e eco-friendly.\n>     *   A valorização da experiência completa, com ambiente, conforto, atendimento e qualidade.\n>     *   A crescente adesão aos planos de assinatura, que oferecem flexibilidade e economia.\n>     *   O impacto das redes sociais e da valorização da imagem pessoal no aumento da demanda por procedimentos estéticos.\n>     *   Hábitos de consumo: consumidores que planejam compras online, buscam praticidade e segurança.\n>     *   A importância da autoestima e do bem-estar como prioridades, impulsionando a busca por procedimentos estéticos.\n> \n> **Plano de Conteúdo para o Post:**\n> \n> 1.  **Título:** \"O Boom da Estética no Brasil em 2025: Tendências, Inovações e o Consumidor do Futuro\"\n> 2.  **Introdução:**\n>     *   Apresentar o crescimento do mercado de estética no Brasil e sua relevância no cenário mundial.\n>     *   Destacar a importância de acompanhar as tendências e inovações para se destacar no setor.\n> 3.  **Desenvolvimento:**\n>     *   Explorar cada um dos pontos relevantes mencionados acima, utilizando dados, exemplos e citações de especialistas.\n>     *   Apresentar as tendências em procedimentos, tecnologias e comportamento do consumidor.\n>     *   Discutir o impacto da inteligência artificial e da personalização nos tratamentos estéticos.\n> 4.  **Conclusão:**\n>     *   Reforçar o potencial do mercado de estética no Brasil e as oportunidades para profissionais e empreendedores.\n>     *   Incentivar os leitores a se manterem atualizados e a investirem em inovação e tecnologia para atender às novas demandas do consumidor.\n> 5.  **Chamada para Ação:**\n>     *   Convidar os leitores a compartilharem suas opiniões e experiências nos comentários.\n>     *   Oferecer materiais complementares, como e-books ou webinars, para aprofundar o conhecimento sobre o tema.\n>     *   Promover os serviços ou produtos da sua empresa, destacando como eles se encaixam nas tendências e inovações do mercado.\n> \n> Espero que este plano detalhado te ajude a criar um post de sucesso sobre o mercado de estética no Brasil!\n> \n"
          },
          "metadata": {}
        },
        {
          "output_type": "display_data",
          "data": {
            "text/plain": [
              "'3 ============ \\n '"
            ],
            "application/vnd.google.colaboratory.intrinsic+json": {
              "type": "string"
            }
          },
          "metadata": {}
        },
        {
          "output_type": "display_data",
          "data": {
            "text/plain": [
              "<IPython.core.display.Markdown object>"
            ],
            "text/markdown": "> 🚀 Prepare-se para o futuro da beleza! 🚀\n> \n> O mercado de estética no Brasil está bombando e 2025 promete ser um ano de INOVAÇÃO e CRESCIMENTO! 🤩\n> \n> 📈 Dados fresquinhos mostram que o setor não para de crescer, impulsionado por tecnologias de ponta, procedimentos minimamente invasivos e uma busca INSACIÁVEL por bem-estar e autoestima.\n> \n> ✨ E as tendências? A beleza natural, os tratamentos personalizados e o \"Head Spa\" estão com tudo! Ah, e a inteligência artificial já chegou para criar produtos e tratamentos EXCLUSIVOS para você! 🤖\n> \n> 💆 Mas não é só isso: o consumidor mudou! Ele está mais consciente, busca produtos sustentáveis e valoriza cada detalhe da experiência. 💚\n> \n> E aí, preparado(a) para embarcar nessa jornada de beleza e inovação? Compartilhe sua opinião nos comentários e fique de olho nas novidades que estão transformando o mercado! 😉\n> \n> #EsteticaBrasil #Beleza2025 #InovacaoEstetica #Alura\n> \n"
          },
          "metadata": {}
        },
        {
          "output_type": "display_data",
          "data": {
            "text/plain": [
              "'4 ============ \\n '"
            ],
            "application/vnd.google.colaboratory.intrinsic+json": {
              "type": "string"
            }
          },
          "metadata": {}
        },
        {
          "output_type": "display_data",
          "data": {
            "text/plain": [
              "<IPython.core.display.Markdown object>"
            ],
            "text/markdown": "> O rascunho está ótimo e pronto para publicar!\n> \n"
          },
          "metadata": {}
        }
      ]
    }
  ]
}